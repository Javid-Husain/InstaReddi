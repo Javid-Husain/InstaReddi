{
  "nbformat": 4,
  "nbformat_minor": 0,
  "metadata": {
    "colab": {
      "provenance": []
    },
    "kernelspec": {
      "name": "python3",
      "display_name": "Python 3"
    },
    "language_info": {
      "name": "python"
    }
  },
  "cells": [
    {
      "cell_type": "code",
      "source": [
        "import praw\n",
        "import json"
      ],
      "metadata": {
        "id": "dQE8kFChWa9p"
      },
      "execution_count": null,
      "outputs": []
    },
    {
      "cell_type": "code",
      "source": [
        "pip install praw"
      ],
      "metadata": {
        "colab": {
          "base_uri": "https://localhost:8080/"
        },
        "id": "4VcHPv2BWeqg",
        "outputId": "0acdc92b-3cc4-4592-d700-b62a09476207"
      },
      "execution_count": null,
      "outputs": [
        {
          "output_type": "stream",
          "name": "stdout",
          "text": [
            "Looking in indexes: https://pypi.org/simple, https://us-python.pkg.dev/colab-wheels/public/simple/\n",
            "Collecting praw\n",
            "  Downloading praw-7.6.1-py3-none-any.whl (188 kB)\n",
            "\u001b[K     |████████████████████████████████| 188 kB 6.1 MB/s \n",
            "\u001b[?25hCollecting websocket-client>=0.54.0\n",
            "  Downloading websocket_client-1.4.2-py3-none-any.whl (55 kB)\n",
            "\u001b[K     |████████████████████████████████| 55 kB 3.5 MB/s \n",
            "\u001b[?25hCollecting update-checker>=0.18\n",
            "  Downloading update_checker-0.18.0-py3-none-any.whl (7.0 kB)\n",
            "Collecting prawcore<3,>=2.1\n",
            "  Downloading prawcore-2.3.0-py3-none-any.whl (16 kB)\n",
            "Requirement already satisfied: requests<3.0,>=2.6.0 in /usr/local/lib/python3.8/dist-packages (from prawcore<3,>=2.1->praw) (2.23.0)\n",
            "Requirement already satisfied: certifi>=2017.4.17 in /usr/local/lib/python3.8/dist-packages (from requests<3.0,>=2.6.0->prawcore<3,>=2.1->praw) (2022.12.7)\n",
            "Requirement already satisfied: idna<3,>=2.5 in /usr/local/lib/python3.8/dist-packages (from requests<3.0,>=2.6.0->prawcore<3,>=2.1->praw) (2.10)\n",
            "Requirement already satisfied: urllib3!=1.25.0,!=1.25.1,<1.26,>=1.21.1 in /usr/local/lib/python3.8/dist-packages (from requests<3.0,>=2.6.0->prawcore<3,>=2.1->praw) (1.24.3)\n",
            "Requirement already satisfied: chardet<4,>=3.0.2 in /usr/local/lib/python3.8/dist-packages (from requests<3.0,>=2.6.0->prawcore<3,>=2.1->praw) (3.0.4)\n",
            "Installing collected packages: websocket-client, update-checker, prawcore, praw\n",
            "Successfully installed praw-7.6.1 prawcore-2.3.0 update-checker-0.18.0 websocket-client-1.4.2\n"
          ]
        }
      ]
    },
    {
      "cell_type": "code",
      "source": [
        "\n",
        "reddit = praw.Reddit(client_id ='4HSDl9ZxWO-dOyTsm2A1UQ',\n",
        "                     client_secret ='d0KI3mTNxKuJAIFxwfbyHpPpFkY4WQ',\n",
        "                     user_agent ='any')\n",
        " \n",
        "# to verify whether the instance is read-only instance or not\n",
        "print(reddit.read_only)"
      ],
      "metadata": {
        "colab": {
          "base_uri": "https://localhost:8080/"
        },
        "id": "Qa1fUOTVWmOb",
        "outputId": "13e30e62-4d79-4173-94ae-370ec7798cc8"
      },
      "execution_count": null,
      "outputs": [
        {
          "output_type": "stream",
          "name": "stdout",
          "text": [
            "True\n"
          ]
        }
      ]
    },
    {
      "cell_type": "code",
      "source": [
        "\n",
        "subreddit = reddit.subreddit('GRE')\n",
        " \n",
        "# display the subreddit name\n",
        "print(subreddit.display_name)\n",
        " \n",
        "# display the subreddit title\n",
        "print(subreddit.title)      \n",
        " \n",
        "# display the subreddit description\n",
        "print(subreddit.description)"
      ],
      "metadata": {
        "id": "y57xM3SLW4UZ"
      },
      "execution_count": null,
      "outputs": []
    },
    {
      "cell_type": "code",
      "source": [
        "\n",
        "subreddit = reddit.subreddit('indiameme')\n",
        " \n",
        "# display the subreddit name\n",
        "#print(subreddit.display_name)\n",
        " \n",
        "# display the subreddit title\n",
        "#print(subreddit.title)      \n",
        " \n",
        "# display the subreddit description\n",
        "#print(subreddit.description)\n",
        "top=subreddit.top(limit=5)\n",
        "print(top)"
      ],
      "metadata": {
        "colab": {
          "base_uri": "https://localhost:8080/"
        },
        "id": "6up-AaWVYWQj",
        "outputId": "3e576775-e30f-48ef-bab9-beda8387efaa"
      },
      "execution_count": null,
      "outputs": [
        {
          "output_type": "stream",
          "name": "stdout",
          "text": [
            "<praw.models.listing.generator.ListingGenerator object at 0x7f2ddd1f9130>\n"
          ]
        }
      ]
    },
    {
      "cell_type": "code",
      "source": [
        "for i in top:\n",
        "  x=i.url\n",
        "  print(x)"
      ],
      "metadata": {
        "id": "CPiKOEgefgAB"
      },
      "execution_count": null,
      "outputs": []
    },
    {
      "cell_type": "code",
      "source": [
        "for i in top:\n",
        "  print(i.url)"
      ],
      "metadata": {
        "id": "heDWFvtjgfCh"
      },
      "execution_count": null,
      "outputs": []
    },
    {
      "cell_type": "code",
      "source": [
        "top.url"
      ],
      "metadata": {
        "id": "266vivZGigP4"
      },
      "execution_count": null,
      "outputs": []
    },
    {
      "cell_type": "code",
      "source": [
        "top.title"
      ],
      "metadata": {
        "id": "_kFE-Dmtj8U4"
      },
      "execution_count": null,
      "outputs": []
    },
    {
      "cell_type": "code",
      "source": [
        "\n",
        "for submission in reddit.subreddit(\"r/ProgrammerHumor\").top(time_filter=\"week\", limit= 100):\n",
        "    print(submission.url)"
      ],
      "metadata": {
        "id": "CvooetZTkINJ",
        "colab": {
          "base_uri": "https://localhost:8080/",
          "height": 182
        },
        "outputId": "60eabb2f-a8c6-42c4-ab0b-5161df5c5f5e"
      },
      "execution_count": null,
      "outputs": [
        {
          "output_type": "error",
          "ename": "NameError",
          "evalue": "ignored",
          "traceback": [
            "\u001b[0;31m---------------------------------------------------------------------------\u001b[0m",
            "\u001b[0;31mNameError\u001b[0m                                 Traceback (most recent call last)",
            "\u001b[0;32m<ipython-input-1-8385d3885e81>\u001b[0m in \u001b[0;36m<module>\u001b[0;34m\u001b[0m\n\u001b[0;32m----> 1\u001b[0;31m \u001b[0;32mfor\u001b[0m \u001b[0msubmission\u001b[0m \u001b[0;32min\u001b[0m \u001b[0mreddit\u001b[0m\u001b[0;34m.\u001b[0m\u001b[0msubreddit\u001b[0m\u001b[0;34m(\u001b[0m\u001b[0;34m\"r/ProgrammerHumor\"\u001b[0m\u001b[0;34m)\u001b[0m\u001b[0;34m.\u001b[0m\u001b[0mtop\u001b[0m\u001b[0;34m(\u001b[0m\u001b[0mtime_filter\u001b[0m\u001b[0;34m=\u001b[0m\u001b[0;34m\"week\"\u001b[0m\u001b[0;34m,\u001b[0m \u001b[0mlimit\u001b[0m\u001b[0;34m=\u001b[0m \u001b[0;36m100\u001b[0m\u001b[0;34m)\u001b[0m\u001b[0;34m:\u001b[0m\u001b[0;34m\u001b[0m\u001b[0;34m\u001b[0m\u001b[0m\n\u001b[0m\u001b[1;32m      2\u001b[0m     \u001b[0mprint\u001b[0m\u001b[0;34m(\u001b[0m\u001b[0msubmission\u001b[0m\u001b[0;34m.\u001b[0m\u001b[0murl\u001b[0m\u001b[0;34m)\u001b[0m\u001b[0;34m\u001b[0m\u001b[0;34m\u001b[0m\u001b[0m\n",
            "\u001b[0;31mNameError\u001b[0m: name 'reddit' is not defined"
          ]
        }
      ]
    },
    {
      "cell_type": "code",
      "source": [
        "top"
      ],
      "metadata": {
        "id": "VR3yDVLTmOXx"
      },
      "execution_count": null,
      "outputs": []
    },
    {
      "cell_type": "code",
      "source": [
        "#json_data = json. loads(top)\n",
        "for i in top:\n",
        "  x_lul=json.load(i)\n",
        "  print(x)"
      ],
      "metadata": {
        "id": "Oxa65DNXvKkJ"
      },
      "execution_count": null,
      "outputs": []
    },
    {
      "cell_type": "code",
      "source": [
        "for submission in reddit.subreddit(\"indiameme\").top(time_filter=\"all\", limit= 30):\n",
        "    if submission.url[-1]==\"g\":\n",
        "      print(submission.url)"
      ],
      "metadata": {
        "colab": {
          "base_uri": "https://localhost:8080/"
        },
        "id": "G2Pe1D7JvN6C",
        "outputId": "26b6c08f-2c32-4113-9fd2-34e856882114"
      },
      "execution_count": null,
      "outputs": [
        {
          "output_type": "stream",
          "name": "stderr",
          "text": [
            "WARNING:praw:It appears that you are using PRAW in an asynchronous environment.\n",
            "It is strongly recommended to use Async PRAW: https://asyncpraw.readthedocs.io.\n",
            "See https://praw.readthedocs.io/en/latest/getting_started/multiple_instances.html#discord-bots-and-asynchronous-environments for more info.\n",
            "\n"
          ]
        },
        {
          "output_type": "stream",
          "name": "stdout",
          "text": [
            "https://v.redd.it/iorzzv3xz9e91\n",
            "https://v.redd.it/g56rjehi0zo91\n",
            "https://v.redd.it/gs1cq7bepkc81\n",
            "https://v.redd.it/aos7d2djhay91\n",
            "https://v.redd.it/yk24v3klnkf81\n",
            "https://v.redd.it/pz9c6arxfro91\n",
            "https://v.redd.it/nowp2xfl2w491\n",
            "https://v.redd.it/0heej8e5ty991\n",
            "https://v.redd.it/t4s2j251efh91\n",
            "https://v.redd.it/azowpy4hxdf81\n",
            "https://v.redd.it/1yk0l2cdbgp91\n",
            "https://v.redd.it/g12mgn5qjf391\n",
            "https://v.redd.it/pimt4wqdrgb81\n",
            "https://v.redd.it/vc4atzbt9bl81\n",
            "https://v.redd.it/3ukghusk8jg81\n",
            "https://v.redd.it/9g3kk9fj6ny81\n",
            "https://v.redd.it/0732zk6nz4u81\n",
            "https://i.redd.it/xmvo04g9smg61.jpg\n",
            "https://i.redd.it/1r52kpvumau91.jpg\n",
            "https://v.redd.it/28aqubsmdek91\n",
            "https://v.redd.it/4ftib2mjo2c81\n",
            "https://v.redd.it/73ojpip0gbg71\n",
            "https://v.redd.it/matsqa0i69b91\n",
            "https://v.redd.it/dkbpzcw6a0v81\n",
            "https://v.redd.it/ozw4ah2db5l81\n",
            "https://v.redd.it/6cex59wfx3i91\n",
            "https://v.redd.it/uw6gbqyap1k71\n",
            "https://i.redd.it/wl2kw46pt7j91.png\n",
            "https://v.redd.it/ujisc03vcj691\n",
            "https://v.redd.it/7b009gyrh4p81\n"
          ]
        }
      ]
    },
    {
      "cell_type": "code",
      "source": [
        "l=[]\n",
        "for submission in reddit.subreddit(\"confusingperspective\").top(time_filter=\"all\", limit= 500):\n",
        "  x=submission.url\n",
        "  if submission.url[-1]==\"g\":\n",
        "    l.append(x)\n",
        "    #print(submission.url)"
      ],
      "metadata": {
        "id": "6VsciN1YufQy",
        "colab": {
          "base_uri": "https://localhost:8080/"
        },
        "outputId": "fb5f3f5f-2974-4ec0-cdc0-f3ba27199f41"
      },
      "execution_count": null,
      "outputs": [
        {
          "output_type": "stream",
          "name": "stderr",
          "text": [
            "WARNING:praw:It appears that you are using PRAW in an asynchronous environment.\n",
            "It is strongly recommended to use Async PRAW: https://asyncpraw.readthedocs.io.\n",
            "See https://praw.readthedocs.io/en/latest/getting_started/multiple_instances.html#discord-bots-and-asynchronous-environments for more info.\n",
            "\n",
            "WARNING:praw:It appears that you are using PRAW in an asynchronous environment.\n",
            "It is strongly recommended to use Async PRAW: https://asyncpraw.readthedocs.io.\n",
            "See https://praw.readthedocs.io/en/latest/getting_started/multiple_instances.html#discord-bots-and-asynchronous-environments for more info.\n",
            "\n",
            "WARNING:praw:It appears that you are using PRAW in an asynchronous environment.\n",
            "It is strongly recommended to use Async PRAW: https://asyncpraw.readthedocs.io.\n",
            "See https://praw.readthedocs.io/en/latest/getting_started/multiple_instances.html#discord-bots-and-asynchronous-environments for more info.\n",
            "\n",
            "WARNING:praw:It appears that you are using PRAW in an asynchronous environment.\n",
            "It is strongly recommended to use Async PRAW: https://asyncpraw.readthedocs.io.\n",
            "See https://praw.readthedocs.io/en/latest/getting_started/multiple_instances.html#discord-bots-and-asynchronous-environments for more info.\n",
            "\n",
            "WARNING:praw:It appears that you are using PRAW in an asynchronous environment.\n",
            "It is strongly recommended to use Async PRAW: https://asyncpraw.readthedocs.io.\n",
            "See https://praw.readthedocs.io/en/latest/getting_started/multiple_instances.html#discord-bots-and-asynchronous-environments for more info.\n",
            "\n"
          ]
        }
      ]
    },
    {
      "cell_type": "code",
      "source": [
        "print(len(l))"
      ],
      "metadata": {
        "colab": {
          "base_uri": "https://localhost:8080/"
        },
        "id": "2fNIqNnRvJxm",
        "outputId": "a7ebd45c-7cdc-428c-dfef-3f561d49ad30"
      },
      "execution_count": null,
      "outputs": [
        {
          "output_type": "stream",
          "name": "stdout",
          "text": [
            "182\n"
          ]
        }
      ]
    },
    {
      "cell_type": "code",
      "source": [
        "l\n"
      ],
      "metadata": {
        "id": "xXgCK9iCvLfS",
        "colab": {
          "base_uri": "https://localhost:8080/"
        },
        "outputId": "da5ac26e-fcb9-4353-f3d7-bfd64146065a"
      },
      "execution_count": null,
      "outputs": [
        {
          "output_type": "execute_result",
          "data": {
            "text/plain": [
              "['https://i.redd.it/2iysmrgu25y41.jpg',\n",
              " 'https://i.redd.it/p6zv247p8xv81.jpg',\n",
              " 'https://i.redd.it/43lac94xwr751.jpg',\n",
              " 'https://i.redd.it/v7b6jjn5ctc51.jpg',\n",
              " 'https://i.redd.it/uljmpphdvoh61.jpg',\n",
              " 'https://i.redd.it/apzr3f834b651.jpg',\n",
              " 'https://i.redd.it/jm6t8cmt0op41.jpg',\n",
              " 'https://i.redd.it/j37es619i6561.jpg',\n",
              " 'https://i.redd.it/5l5zfxmwd8w81.jpg',\n",
              " 'https://i.redd.it/hri9seqlzr841.png',\n",
              " 'https://i.redd.it/0aclgcnmcjm31.jpg',\n",
              " 'https://i.redd.it/nwynijficng41.jpg',\n",
              " 'https://i.redd.it/w43uaex4b3091.jpg',\n",
              " 'https://i.imgur.com/qrNw0MX.jpg',\n",
              " 'https://i.redd.it/vfi5pnpt4k691.jpg',\n",
              " 'https://i.redd.it/ji536gdyxqy81.jpg',\n",
              " 'https://i.redd.it/gb32hgs1mcc71.jpg',\n",
              " 'https://i.redd.it/13t9ttybxkw61.jpg',\n",
              " 'https://i.redd.it/abwuvp3e51751.png',\n",
              " 'https://i.redd.it/58j5pg8t69q61.jpg',\n",
              " 'https://i.redd.it/euhcv7y97hk91.jpg',\n",
              " 'https://i.redd.it/h7jvwic5xi661.jpg',\n",
              " 'https://i.redd.it/9pwvo5bxf6741.jpg',\n",
              " 'https://i.redd.it/e9bsh6o81s491.jpg',\n",
              " 'https://i.redd.it/1oxx1rikmp151.jpg',\n",
              " 'https://i.redd.it/r6otom6sdmu41.jpg',\n",
              " 'https://i.redd.it/xaccwp0nlqx91.jpg',\n",
              " 'https://i.redd.it/5ggfdr3blfj61.jpg',\n",
              " 'https://i.redd.it/4i8meqiaqc0a1.jpg',\n",
              " 'https://i.redd.it/uqsp8m1lhse61.jpg',\n",
              " 'https://i.redd.it/p5rk76uav3c61.jpg',\n",
              " 'https://i.redd.it/q0pjhfn6lrj91.jpg',\n",
              " 'https://i.redd.it/g2ev5pro6tz81.jpg',\n",
              " 'https://i.redd.it/nzg31vv21so91.jpg',\n",
              " 'https://i.redd.it/s8z0f0fz0g091.jpg',\n",
              " 'https://i.redd.it/kb5b8ia4k7g61.jpg',\n",
              " 'https://i.redd.it/3c9vbv6zq9e51.jpg',\n",
              " 'https://i.redd.it/fqniw8w882791.jpg',\n",
              " 'https://i.redd.it/emaekmqcblh61.jpg',\n",
              " 'https://i.imgur.com/2IQ1MXW.jpg',\n",
              " 'https://i.imgur.com/WkeO8Uw.jpg',\n",
              " 'https://i.redd.it/esciljic4tq61.jpg',\n",
              " 'https://i.redd.it/vnjemc3oddp81.jpg',\n",
              " 'https://i.redd.it/bhw7f6f4r5s91.jpg',\n",
              " 'https://i.redd.it/c5g5ez9r8j0a1.jpg',\n",
              " 'https://i.redd.it/in1zu8ytvrk91.jpg',\n",
              " 'https://i.redd.it/hex23kr68qb41.jpg',\n",
              " 'https://i.redd.it/2igv2vekc10a1.jpg',\n",
              " 'https://i.redd.it/b7u39q9rn5p31.jpg',\n",
              " 'https://i.redd.it/vfl8xf183gw81.jpg',\n",
              " 'https://i.redd.it/y8tvgnpnddt61.png',\n",
              " 'https://i.redd.it/d928ius6xp561.jpg',\n",
              " 'https://i.redd.it/itva9xhc58u91.png',\n",
              " 'https://i.redd.it/6kfuqx99lu251.jpg',\n",
              " 'https://i.redd.it/1hak6lspasb51.jpg',\n",
              " 'https://i.redd.it/kc88pi63osd31.png',\n",
              " 'https://i.redd.it/xowv8y76iq391.jpg',\n",
              " 'https://i.redd.it/1vskn8imigl91.jpg',\n",
              " 'https://i.redd.it/hy3gau6vcef91.jpg',\n",
              " 'https://i.redd.it/28q96aezguw61.jpg',\n",
              " 'https://i.redd.it/t5s91k31sq541.jpg',\n",
              " 'https://i.redd.it/xj3l5rq3w1e71.jpg',\n",
              " 'https://i.redd.it/x68s78qicle91.jpg',\n",
              " 'https://i.imgur.com/Ghy2n0s.jpg',\n",
              " 'https://i.redd.it/3qusjtplbr2a1.jpg',\n",
              " 'https://i.redd.it/c0ez1hs4q0j91.jpg',\n",
              " 'https://i.redd.it/adt66y4jtzd91.jpg',\n",
              " 'https://i.redd.it/wx6cb6chzs791.jpg',\n",
              " 'https://i.redd.it/6pc99c5v474a1.jpg',\n",
              " 'https://i.redd.it/7l2nof6xsrw91.jpg',\n",
              " 'https://i.redd.it/1euhrxracgf61.jpg',\n",
              " 'https://i.redd.it/dbwia8xynkr91.jpg',\n",
              " 'https://i.redd.it/x70jijtj2l4a1.jpg',\n",
              " 'http://i.imgur.com/Ed8EtQW.jpg',\n",
              " 'https://i.redd.it/uq4p05wtrf431.jpg',\n",
              " 'https://i.redd.it/268l26lrcep61.jpg',\n",
              " 'https://i.redd.it/kyb8lytinxq61.jpg',\n",
              " 'https://i.redd.it/juu9aw9n3x351.jpg',\n",
              " 'https://i.redd.it/gibmanb85a891.jpg',\n",
              " 'https://i.imgur.com/owma8IX.jpg',\n",
              " 'https://i.redd.it/ssm3jlsjekt91.jpg',\n",
              " 'https://i.redd.it/yhsmqifp0j551.jpg',\n",
              " 'https://i.redd.it/5c35c0z51wc51.jpg',\n",
              " 'https://i.redd.it/49dn1z2nt42a1.jpg',\n",
              " 'https://i.redd.it/tm2q353qjd791.jpg',\n",
              " 'https://i.redd.it/3cesn7i7tlz91.jpg',\n",
              " 'https://i.imgur.com/uhwSfRm.jpg',\n",
              " 'https://i.redd.it/4pkw17zf4vm61.png',\n",
              " 'https://i.redd.it/60yr7d8cxdb51.jpg',\n",
              " 'https://i.redd.it/mhk6kqvg3t271.jpg',\n",
              " 'https://i.redd.it/6ha8e95b1h671.jpg',\n",
              " 'https://i.redd.it/g7rv1own3os31.jpg',\n",
              " 'https://i.redd.it/ap6ldv1hwc191.jpg',\n",
              " 'https://i.redd.it/6h0kthzihg771.jpg',\n",
              " 'https://i.redd.it/31qww9tlkt3a1.jpg',\n",
              " 'https://i.redd.it/03epx1m7dw1a1.jpg',\n",
              " 'https://i.redd.it/fcxybzxol03a1.jpg',\n",
              " 'https://i.redd.it/vhx7r68888w91.jpg',\n",
              " 'https://i.imgur.com/wDl7LJ3.jpg',\n",
              " 'https://i.redd.it/ljwsjongmqz31.jpg',\n",
              " 'https://i.redd.it/n6frjrn69mq61.jpg',\n",
              " 'https://i.redd.it/26fssra42m861.png',\n",
              " 'https://i.redd.it/725yeci0ljl81.jpg',\n",
              " 'https://i.redd.it/74amd7z2f1l81.jpg',\n",
              " 'https://i.redd.it/eip1ixc8dzy51.jpg',\n",
              " 'https://i.redd.it/7384nhero9p91.jpg',\n",
              " 'https://i.redd.it/ptga2e0kexs31.jpg',\n",
              " 'https://i.redd.it/j69nc2fc71m81.jpg',\n",
              " 'https://i.redd.it/90ehvr8ljb191.jpg',\n",
              " 'https://i.redd.it/7nce817pv1b71.jpg',\n",
              " 'https://i.redd.it/szoa1ohw7iy81.png',\n",
              " 'https://i.redd.it/31boe5uy4i1a1.jpg',\n",
              " 'https://i.redd.it/i6gvl80106491.jpg',\n",
              " 'https://i.redd.it/ntf6kqsb33i41.jpg',\n",
              " 'https://i.redd.it/7l4yxo7w38f81.jpg',\n",
              " 'https://i.redd.it/qw70e914ivr91.jpg',\n",
              " 'https://i.redd.it/w7nph49kst691.jpg',\n",
              " 'https://i.redd.it/0rrguk8gv1m61.jpg',\n",
              " 'https://i.redd.it/arng9cswybz91.jpg',\n",
              " 'https://i.redd.it/bw1mh6icmuy61.jpg',\n",
              " 'https://i.redd.it/0m7hkwnhata31.jpg',\n",
              " 'https://i.redd.it/16wv7wg46wa51.jpg',\n",
              " 'https://i.redd.it/qxsnvuzj0th41.png',\n",
              " 'https://i.redd.it/yul05o84l2o91.jpg',\n",
              " 'https://i.imgur.com/asYdPXF.jpg',\n",
              " 'https://i.redd.it/wbpyiwcewex61.jpg',\n",
              " 'https://i.redd.it/ozfc98r5fhc91.jpg',\n",
              " 'https://i.redd.it/stcpwv5sb1l41.jpg',\n",
              " 'https://i.redd.it/sb5rj4gdj9x31.jpg',\n",
              " 'https://i.redd.it/y4cn0ak4zd1a1.jpg',\n",
              " 'https://i.redd.it/zfvu9ai0ajo91.jpg',\n",
              " 'https://i.redd.it/jl1xh55dewp61.jpg',\n",
              " 'https://i.redd.it/wa4q3i7mqwz61.jpg',\n",
              " 'https://i.redd.it/v5bxl4fknpz91.jpg',\n",
              " 'https://i.redd.it/wlhsbmg5cpc41.jpg',\n",
              " 'https://i.redd.it/jk8m2ns05ry91.jpg',\n",
              " 'https://i.redd.it/p8u4m754hmz81.jpg',\n",
              " 'https://i.redd.it/w6oc04646po61.png',\n",
              " 'https://i.redd.it/mjvrlhfcff341.png',\n",
              " 'https://i.redd.it/id0ntxwzid061.jpg',\n",
              " 'https://imgur.com/PGMihtD.jpg',\n",
              " 'https://imgur.com/TDXmY0j.jpg',\n",
              " 'https://i.redd.it/lirbsojyz0l91.jpg',\n",
              " 'https://i.redd.it/yahdlge3so651.jpg',\n",
              " 'https://i.redd.it/2bkyvje333g61.jpg',\n",
              " 'https://i.redd.it/w4048gdryio91.png',\n",
              " 'https://i.redd.it/o7hn0lcq3cf71.png',\n",
              " 'https://i.imgur.com/HkNnBPt.jpg',\n",
              " 'https://i.redd.it/kozaqrs9z6v61.jpg',\n",
              " 'https://i.redd.it/oexz7lf9g7161.jpg',\n",
              " 'https://i.redd.it/4g9jed8lqxm91.jpg',\n",
              " 'https://i.redd.it/2a281jmxv5r91.png',\n",
              " 'https://i.redd.it/nred7a023uw41.jpg',\n",
              " 'https://i.redd.it/z2v5zttofzj61.jpg',\n",
              " 'https://i.redd.it/et0nwdphrmg61.jpg',\n",
              " 'https://i.imgur.com/bCfnrqF.jpg',\n",
              " 'https://i.redd.it/6qvwd9guccz81.jpg',\n",
              " 'https://i.redd.it/dfno9wnw3jj51.jpg',\n",
              " 'https://i.imgur.com/uRTlSfo.jpg',\n",
              " 'https://i.redd.it/fjcllb0fbc471.jpg',\n",
              " 'https://i.redd.it/80w536uhv8291.jpg',\n",
              " 'https://i.redd.it/85n3a5p4vsd91.jpg',\n",
              " 'https://i.redd.it/7wlzu43650m91.jpg',\n",
              " 'https://i.redd.it/j6eszmtvm2171.jpg',\n",
              " 'https://i.redd.it/t8sr0bei5b271.jpg',\n",
              " 'https://i.redd.it/8s79r07vzj5a1.jpg',\n",
              " 'https://i.redd.it/ilgu4ouezvy81.jpg',\n",
              " 'https://i.redd.it/nbxshoy2j37a1.jpg',\n",
              " 'https://i.redd.it/xkzlybqz72q91.jpg',\n",
              " 'https://i.redd.it/imww7vfri4791.jpg',\n",
              " 'https://i.redd.it/pn7eguar3qc61.jpg',\n",
              " 'https://i.redd.it/z5wuylpx97591.jpg',\n",
              " 'https://i.redd.it/d0h87d4elc481.jpg',\n",
              " 'https://i.redd.it/xrkpr2cx6em61.png',\n",
              " 'https://i.redd.it/p11c2lpyamg51.jpg',\n",
              " 'https://i.redd.it/l872q6oispx51.jpg',\n",
              " 'https://i.redd.it/9otvqzbixel41.jpg',\n",
              " 'https://i.redd.it/nndrltdj4n771.jpg',\n",
              " 'https://i.redd.it/eox88qs1u9251.jpg',\n",
              " 'https://i.redd.it/bnyq4h51w8m41.jpg',\n",
              " 'https://i.redd.it/fuh25zgrrc951.jpg',\n",
              " 'https://i.redd.it/klbdmuy4i1261.jpg',\n",
              " 'https://i.redd.it/mfqc4ypmcjy91.jpg',\n",
              " 'https://i.redd.it/7r1gf24u50f31.jpg',\n",
              " 'https://abrilveja.files.wordpress.com/2020/01/000_1oa01z.jpg',\n",
              " 'https://i.redd.it/gsbzcxomidy61.jpg',\n",
              " 'https://i.redd.it/g4zb82vdwf871.jpg',\n",
              " 'https://i.redd.it/d2q74a70m6f91.jpg',\n",
              " 'https://i.redd.it/oq15v79vnn6a1.jpg',\n",
              " 'https://i.redd.it/0dztxgv8csq91.png',\n",
              " 'https://i.redd.it/u8vztvg9qz581.jpg',\n",
              " 'https://i.redd.it/4obvx7gvfzw91.jpg',\n",
              " 'https://i.redd.it/21lukkidaiu81.jpg',\n",
              " 'https://i.redd.it/4b68l4y0xqp61.jpg',\n",
              " 'https://i.imgur.com/GjE1CJs.jpg',\n",
              " 'https://i.redd.it/gb79z1dbq8t61.jpg',\n",
              " 'https://i.redd.it/laxnww7oj6051.jpg',\n",
              " 'https://i.redd.it/plkhg6j9uir81.jpg',\n",
              " 'https://i.redd.it/rycse6xesf171.png',\n",
              " 'https://i.redd.it/syjk65mn2m391.jpg',\n",
              " 'https://i.imgur.com/7cK9MQp.jpg',\n",
              " 'https://i.redd.it/msjvch5y6dy91.jpg',\n",
              " 'https://i.redd.it/dp8d0j69fa271.jpg',\n",
              " 'https://i.redd.it/7gvjvehxm8h51.jpg',\n",
              " 'https://i.redd.it/dbc4cm60ztl51.png',\n",
              " 'https://i.redd.it/77t5n4bbly791.jpg',\n",
              " 'https://i.redd.it/810i0pjt3vx81.jpg',\n",
              " 'https://i.redd.it/63hl0yxlb2v91.jpg',\n",
              " 'https://i.redd.it/1wtd6mmzw5r81.jpg',\n",
              " 'https://i.redd.it/j0t8ynlg61l51.png',\n",
              " 'https://i.redd.it/dfshcgrvqs2a1.jpg',\n",
              " 'https://i.redd.it/fqo61dj0ssw51.jpg',\n",
              " 'https://i.redd.it/pveuxchhgu4a1.jpg',\n",
              " 'https://i.redd.it/xkplsncaoxg71.jpg',\n",
              " 'https://i.redd.it/j6gptc4u84u41.jpg',\n",
              " 'https://i.redd.it/1ga1jzj1wdl81.jpg',\n",
              " 'https://i.imgur.com/j61DcKA.jpg',\n",
              " 'https://i.imgur.com/7RzFkRl.jpg',\n",
              " 'https://i.redd.it/rbtzwit2ntd51.jpg',\n",
              " 'https://i.redd.it/m6r62jeuyg441.jpg',\n",
              " 'https://i.redd.it/at771l95syu61.jpg',\n",
              " 'https://i.redd.it/jof1wq0ajsf91.jpg',\n",
              " 'https://i.redd.it/8u79seh892y91.jpg',\n",
              " 'https://i.redd.it/gzxcfv75dyn51.jpg',\n",
              " 'https://i.redd.it/n3oeu7o7uib61.jpg',\n",
              " 'https://i.redd.it/4euqd0ww2s461.png',\n",
              " 'https://i.redd.it/5ykik5r7ddh51.jpg',\n",
              " 'https://i.redd.it/lb6jteynrhl61.jpg',\n",
              " 'https://i.imgur.com/1R9FLwn.jpg',\n",
              " 'https://i.redd.it/u72ydyyy16s61.jpg',\n",
              " 'https://i.redd.it/yraduoxkz7g51.jpg',\n",
              " 'https://i.redd.it/8g72de5jb3d61.jpg',\n",
              " 'https://i.redd.it/2dy5mj8ywds91.jpg',\n",
              " 'https://i.redd.it/tc285c4wyrx31.jpg',\n",
              " 'https://i.redd.it/yfzicm44k4g41.jpg',\n",
              " 'https://i.redd.it/ruxt4zw8ubx81.png',\n",
              " 'https://i.redd.it/wawp1kb32bc81.jpg',\n",
              " 'https://i.imgur.com/zbZjYpq.jpg',\n",
              " 'https://i.redd.it/je9rq2qe321a1.jpg',\n",
              " 'https://i.redd.it/jpfygu2w7m161.jpg',\n",
              " 'https://i.redd.it/mlqrf0gf8ro21.jpg',\n",
              " 'https://i.redd.it/5p67oy942ov91.jpg',\n",
              " 'https://i.redd.it/k5f5sglwf7b81.jpg',\n",
              " 'https://i.redd.it/soarake0m9241.jpg',\n",
              " 'https://i.redd.it/jiaroju7g34a1.jpg',\n",
              " 'https://imgur.com/945mYTe.jpg',\n",
              " 'https://i.redd.it/oxthi0ntlta71.jpg',\n",
              " 'https://i.redd.it/rpf3s3brsnj71.jpg',\n",
              " 'https://i.redd.it/fsr5hgntkah31.jpg',\n",
              " 'https://i.redd.it/eldn7fi37t0a1.jpg',\n",
              " 'https://i.redd.it/5sstiqwxfc571.jpg',\n",
              " 'https://i.imgur.com/Kbxm7hS.jpg',\n",
              " 'https://i.redd.it/d5u4552v9vv61.png',\n",
              " 'https://i.redd.it/kgstcgiwrfv91.jpg',\n",
              " 'https://i.redd.it/wkxg75anu7q91.jpg',\n",
              " 'https://i.redd.it/xhz9l7l17xq51.jpg',\n",
              " 'https://i.redd.it/tg4mtc2xekg71.jpg',\n",
              " 'https://i.redd.it/9iu4vaezgyb91.png',\n",
              " 'https://i.redd.it/dv3s8i7cxoq91.jpg',\n",
              " 'https://i.redd.it/ylqendd0qax51.jpg',\n",
              " 'https://i.redd.it/sy25cyxjty251.jpg',\n",
              " 'https://i.redd.it/vrwoi0hwupu91.jpg',\n",
              " 'https://i.redd.it/k3114bne6yu51.jpg',\n",
              " 'https://i.redd.it/l2phs6l9fsj61.jpg',\n",
              " 'https://i.redd.it/8dcl3mdubim91.jpg',\n",
              " 'https://i.redd.it/51auyodq09w51.jpg',\n",
              " 'https://i.imgur.com/8klOvFS.jpg',\n",
              " 'https://i.redd.it/qlf6unog2st91.jpg',\n",
              " 'https://i.redd.it/0l2p66em55y51.jpg',\n",
              " 'https://i.redd.it/ctl56h0sk2h61.jpg',\n",
              " 'https://i.redd.it/b390noskao091.jpg',\n",
              " 'https://i.redd.it/w3n4amh8ye361.jpg',\n",
              " 'https://i.redd.it/x9dyqqgakwy71.jpg',\n",
              " 'https://i.redd.it/hxg7r3dwlmv61.jpg',\n",
              " 'https://i.redd.it/lh1bpjoztsg91.jpg',\n",
              " 'https://i.redd.it/6oip2s7jeml41.jpg',\n",
              " 'https://i.redd.it/xjv3ypdi8e5a1.jpg',\n",
              " 'https://i.redd.it/2hk2vt3btq161.jpg',\n",
              " 'https://i.redd.it/4223r6jywkx91.jpg',\n",
              " 'https://i.redd.it/jxi38kev4lw91.jpg',\n",
              " 'http://i.imgur.com/GaQS3dF.jpg',\n",
              " 'https://i.redd.it/3afsuac7w3991.jpg',\n",
              " 'https://i.redd.it/zoj3ru1ns3k31.jpg',\n",
              " 'https://i.redd.it/ed79btblfx371.jpg',\n",
              " 'https://i.imgur.com/cceaxKO.png',\n",
              " 'https://i.redd.it/9cvb7ghmqve41.jpg',\n",
              " 'https://i.redd.it/xjx2c3cx1zo41.jpg',\n",
              " 'https://i.redd.it/rfijdfbflkv91.png',\n",
              " 'https://i.redd.it/ecltdw9llrf71.png',\n",
              " 'https://i.redd.it/kxtuujymtbc91.jpg',\n",
              " 'https://i.redd.it/zmqrnukm0yz21.jpg',\n",
              " 'https://i.redd.it/oyo47lso3kl61.jpg',\n",
              " 'https://i.redd.it/t6b1peo554t61.png',\n",
              " 'https://i.redd.it/nufi1tvnpye61.jpg',\n",
              " 'https://i.redd.it/lntzvgrtzl671.jpg',\n",
              " 'https://i.redd.it/ghex40h7yx3a1.jpg',\n",
              " 'https://i.redd.it/tkjp0qs0iav91.jpg',\n",
              " 'https://i.redd.it/vmjf8w8t0be61.jpg',\n",
              " 'https://i.redd.it/qqu7zozxnsu61.jpg',\n",
              " 'https://i.redd.it/08mtpet7q5231.jpg',\n",
              " 'https://i.redd.it/kem4mn7mkr591.jpg',\n",
              " 'https://i.redd.it/ij1umsmxlkd61.jpg',\n",
              " 'https://i.redd.it/yefwkkjeftx51.jpg',\n",
              " 'https://i.redd.it/q9g9bdwa29z61.jpg',\n",
              " 'https://i.redd.it/an4yfiefk2871.jpg',\n",
              " 'https://i.redd.it/rlz67a5bjkx41.jpg',\n",
              " 'https://i.redd.it/4kf3638xqp451.png',\n",
              " 'https://i.redd.it/djhnwh2j1qt31.jpg',\n",
              " 'https://i.redd.it/8jf3tsgb26z41.jpg',\n",
              " 'https://i.redd.it/ejgo92cefzo61.jpg',\n",
              " 'https://i.redd.it/qjnken3362w51.jpg',\n",
              " 'https://i.redd.it/ujhidfurglw81.jpg',\n",
              " 'https://i.redd.it/156msia8rlr61.jpg',\n",
              " 'https://i.imgur.com/Pt76KaV.jpg',\n",
              " 'https://i.imgur.com/Ze1ZaXf.jpg',\n",
              " 'https://i.redd.it/o5se5a20z1d51.jpg',\n",
              " 'https://i.redd.it/n0pi0yxpq8x61.jpg',\n",
              " 'https://i.redd.it/yrx7qh6i8pn51.jpg',\n",
              " 'https://i.redd.it/iph2uq90dw051.jpg',\n",
              " 'https://i.redd.it/4b6cg0d5t5661.jpg',\n",
              " 'https://i.redd.it/q20isjsre2071.jpg',\n",
              " 'https://i.redd.it/i9rwosd4kvv91.jpg',\n",
              " 'https://i.redd.it/47w7r8ude2m31.jpg',\n",
              " 'https://i.redd.it/t4aczba26vd91.jpg',\n",
              " 'https://i.redd.it/vw8jy711o0x61.jpg',\n",
              " 'https://i.redd.it/435duuj22fe91.jpg',\n",
              " 'https://i.redd.it/dcjvrlz5d4691.jpg',\n",
              " 'https://i.redd.it/j46sqlg8dbx91.jpg',\n",
              " 'https://i.redd.it/pdx63ddz3kk61.png',\n",
              " 'https://i.redd.it/4xox6zh3m0g51.jpg',\n",
              " 'https://i.redd.it/8rbeqg7f9wi71.jpg',\n",
              " 'https://i.redd.it/4ks0ik3qvo851.jpg',\n",
              " 'https://i.redd.it/3u5s10prixo91.jpg',\n",
              " 'https://i.redd.it/wbrbwzuipmz41.jpg',\n",
              " 'https://i.redd.it/c0lsnpgcnxg41.jpg',\n",
              " 'https://i.redd.it/pf8k4uxao7c91.jpg',\n",
              " 'https://i.redd.it/9egosu6w50q51.jpg',\n",
              " 'https://i.redd.it/gdo5ct8pj0191.jpg',\n",
              " 'https://i.redd.it/prwk9tjarpd41.png',\n",
              " 'https://i.redd.it/37435x77yxv51.jpg',\n",
              " 'https://i.redd.it/ltqtfnk6sm071.jpg',\n",
              " 'https://i.redd.it/2k2qrpt4ytk51.jpg',\n",
              " 'https://i.redd.it/hlep4f0mpup41.jpg',\n",
              " 'https://i.redd.it/93rnx65xlnt41.jpg',\n",
              " 'https://i.redd.it/3s4zzev8rk3a1.jpg',\n",
              " 'https://i.redd.it/65d04hyt6ta61.jpg',\n",
              " 'https://i.redd.it/g1qf2tmxowo41.jpg',\n",
              " 'https://i.redd.it/12xmb2sd03g71.jpg',\n",
              " 'https://i.redd.it/kn262akn3a861.jpg',\n",
              " 'https://i.redd.it/lf991wcrj8m91.jpg',\n",
              " 'https://i.redd.it/w6nn39oulye71.jpg',\n",
              " 'https://i.redd.it/z7h0f6anqk651.jpg',\n",
              " 'https://i.redd.it/fjdwgg8m5si91.jpg',\n",
              " 'https://i.redd.it/4g8gcy8jg5z91.png',\n",
              " 'https://i.redd.it/l0zxldtvos291.jpg',\n",
              " 'https://i.redd.it/9ukbyplufb551.jpg',\n",
              " 'https://i.redd.it/88vze3p31ao91.jpg',\n",
              " 'https://i.redd.it/3opm17xb3q361.png',\n",
              " 'https://i.redd.it/ndn1zdf48ap51.jpg',\n",
              " 'https://i.redd.it/qnpjcav5cwu91.jpg',\n",
              " 'https://i.redd.it/ixcvjamsvn571.jpg',\n",
              " 'https://i.redd.it/0a1r19pkaj1a1.jpg',\n",
              " 'https://i.redd.it/xcobjmevqj571.jpg',\n",
              " 'https://i.redd.it/24t020kwkt0a1.jpg',\n",
              " 'https://i.redd.it/f0wh22ui2op51.jpg',\n",
              " 'https://i.redd.it/lmpap2b2lu571.jpg',\n",
              " 'https://i.redd.it/o7ypd9z1x2z81.jpg',\n",
              " 'https://imgur.com/JDCGwV8.jpg',\n",
              " 'https://i.redd.it/4x4roivfbhd51.jpg',\n",
              " 'https://i.imgur.com/XJE3MK4.jpg',\n",
              " 'https://i.redd.it/8g2yrn0lanc51.jpg',\n",
              " 'https://i.redd.it/a7xahwytg3o61.jpg',\n",
              " 'https://i.redd.it/yurtnekx88h61.jpg',\n",
              " 'https://i.redd.it/vlus067kp3i71.jpg',\n",
              " 'https://i.redd.it/8i1au6e1ifc61.png',\n",
              " 'https://i.redd.it/dfdmrrzlohg61.jpg',\n",
              " 'https://i.redd.it/z6mrf5o4r2651.jpg']"
            ]
          },
          "metadata": {},
          "execution_count": 25
        }
      ]
    },
    {
      "cell_type": "code",
      "source": [
        "for submission in reddit.subreddit(\"indiameme\").top(time_filter=\"all\", limit= 30):\n",
        "    if submission.url[-1]==\"g\":\n",
        "      print(submission.flair_list)"
      ],
      "metadata": {
        "id": "HrBbRHXmvVoh"
      },
      "execution_count": null,
      "outputs": []
    },
    {
      "cell_type": "code",
      "source": [
        "for template in reddit.subreddit(\"indiameme\").flair.templates:\n",
        "    print(template)"
      ],
      "metadata": {
        "id": "plhXv44EyD9E"
      },
      "execution_count": null,
      "outputs": []
    },
    {
      "cell_type": "code",
      "source": [
        "for submission in reddit.subreddit(\"indiameme\").top(time_filter=\"all\", limit= 30):\n",
        "    #if submission.url[-1]==\"g\":\n",
        "    print(submission.flair.list)"
      ],
      "metadata": {
        "id": "lwku6ooL1Sc9"
      },
      "execution_count": null,
      "outputs": []
    },
    {
      "cell_type": "code",
      "source": [
        "lul=reddit.subreddit(\"indiameme\")\n",
        "k=lul.hot(limit=5)\n",
        "print(dir(k))"
      ],
      "metadata": {
        "colab": {
          "base_uri": "https://localhost:8080/"
        },
        "id": "m6FdhEtR1ZVu",
        "outputId": "6eef262b-b99f-4b12-ba49-d3b91815524f"
      },
      "execution_count": null,
      "outputs": [
        {
          "output_type": "stream",
          "name": "stdout",
          "text": [
            "['__abstractmethods__', '__class__', '__class_getitem__', '__delattr__', '__dict__', '__dir__', '__doc__', '__eq__', '__format__', '__ge__', '__getattribute__', '__gt__', '__hash__', '__init__', '__init_subclass__', '__iter__', '__le__', '__lt__', '__module__', '__ne__', '__new__', '__next__', '__orig_bases__', '__parameters__', '__reduce__', '__reduce_ex__', '__repr__', '__setattr__', '__sizeof__', '__slots__', '__str__', '__subclasshook__', '__weakref__', '_abc_impl', '_exhausted', '_extract_sublist', '_is_protocol', '_list_index', '_listing', '_next_batch', '_reddit', '_safely_add_arguments', 'limit', 'params', 'parse', 'url', 'yielded']\n"
          ]
        }
      ]
    },
    {
      "cell_type": "code",
      "source": [
        "for i in k:\n",
        "  print(i.link_flair_text)"
      ],
      "metadata": {
        "colab": {
          "base_uri": "https://localhost:8080/"
        },
        "id": "JPnUTyCB3Om_",
        "outputId": "ccf832e1-296f-4cb0-e28f-a1e8a829f6fa"
      },
      "execution_count": null,
      "outputs": [
        {
          "output_type": "stream",
          "name": "stderr",
          "text": [
            "WARNING:praw:It appears that you are using PRAW in an asynchronous environment.\n",
            "It is strongly recommended to use Async PRAW: https://asyncpraw.readthedocs.io.\n",
            "See https://praw.readthedocs.io/en/latest/getting_started/multiple_instances.html#discord-bots-and-asynchronous-environments for more info.\n",
            "\n"
          ]
        },
        {
          "output_type": "stream",
          "name": "stdout",
          "text": [
            "Official Submission\n",
            "Non-Political\n",
            "Non-political OC\n",
            "Non-political OC\n",
            "Non-Political\n"
          ]
        }
      ]
    },
    {
      "cell_type": "code",
      "source": [],
      "metadata": {
        "id": "tp8qLdau3SKe"
      },
      "execution_count": null,
      "outputs": []
    }
  ]
}